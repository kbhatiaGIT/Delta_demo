{
  "nbformat": 4,
  "nbformat_minor": 2,
  "metadata": {
    "kernelspec": {
      "name": "synapse_pyspark",
      "display_name": "Synapse PySpark"
    },
    "language_info": {
      "name": "python"
    },
    "description": null,
    "save_output": true,
    "synapse_widget": {
      "version": "0.1",
      "state": {
        "81da5af4-0a36-41da-ac3a-58c3b1bddbd1": {
          "type": "Synapse.DataFrame",
          "sync_state": {
            "table": {
              "rows": [
                {
                  "0": "540644",
                  "1": "20728",
                  "2": "LUNCH BAG CARS BLUE",
                  "3": "10",
                  "4": "1/10/11 14:16",
                  "5": "1.65",
                  "6": "16303",
                  "7": "United Kingdom"
                },
                {
                  "0": "540644",
                  "1": "20971",
                  "2": "PINK BLUE FELT CRAFT TRINKET BOX",
                  "3": "12",
                  "4": "1/10/11 14:16",
                  "5": "1.25",
                  "6": "16303",
                  "7": "United Kingdom"
                },
                {
                  "0": "540644",
                  "1": "20972",
                  "2": "PINK CREAM FELT CRAFT TRINKET BOX",
                  "3": "12",
                  "4": "1/10/11 14:16",
                  "5": "1.25",
                  "6": "16303",
                  "7": "United Kingdom"
                },
                {
                  "0": "540644",
                  "1": "22570",
                  "2": "FELTCRAFT CUSHION RABBIT",
                  "3": "4",
                  "4": "1/10/11 14:16",
                  "5": "3.75",
                  "6": "16303",
                  "7": "United Kingdom"
                },
                {
                  "0": "540644",
                  "1": "22569",
                  "2": "FELTCRAFT CUSHION BUTTERFLY",
                  "3": "4",
                  "4": "1/10/11 14:16",
                  "5": "3.75",
                  "6": "16303",
                  "7": "United Kingdom"
                }
              ],
              "schema": [
                {
                  "key": "0",
                  "name": "InvoiceNo",
                  "type": "int"
                },
                {
                  "key": "1",
                  "name": "StockCode",
                  "type": "string"
                },
                {
                  "key": "2",
                  "name": "Description",
                  "type": "string"
                },
                {
                  "key": "3",
                  "name": "Quantity",
                  "type": "int"
                },
                {
                  "key": "4",
                  "name": "InvoiceDate",
                  "type": "string"
                },
                {
                  "key": "5",
                  "name": "UnitPrice",
                  "type": "double"
                },
                {
                  "key": "6",
                  "name": "CustomerID",
                  "type": "int"
                },
                {
                  "key": "7",
                  "name": "Country",
                  "type": "string"
                }
              ]
            },
            "isSummary": false,
            "language": "scala"
          },
          "persist_state": {
            "view": {
              "type": "details",
              "tableOptions": {},
              "chartOptions": {
                "chartType": "bar",
                "aggregationType": "sum",
                "categoryFieldKeys": [
                  "1"
                ],
                "seriesFieldKeys": [
                  "0"
                ],
                "isStacked": false
              }
            }
          }
        }
      }
    }
  },
  "cells": [
    {
      "cell_type": "markdown",
      "metadata": {
        "nteract": {
          "transient": {
            "deleting": false
          }
        }
      },
      "source": [
        "## Create a Delta file \r\n",
        "\r\n",
        "Provide the format as delta or parquet while creating the file.\r\n",
        "\r\n",
        "Below, we are providing the file path for loading the CSV file to delta"
      ]
    },
    {
      "cell_type": "code",
      "execution_count": 1,
      "outputs": [
        {
          "output_type": "display_data",
          "data": {
            "application/vnd.livy.statement-meta+json": {
              "spark_pool": "SparkPool1",
              "session_id": 13,
              "statement_id": 1,
              "state": "finished",
              "livy_statement_state": "available",
              "queued_time": "2021-10-25T09:46:31.278831Z",
              "session_start_time": "2021-10-25T09:46:31.3243327Z",
              "execution_start_time": "2021-10-25T09:48:55.3879522Z",
              "execution_finish_time": "2021-10-25T09:48:55.5403338Z"
            },
            "text/plain": "StatementMeta(SparkPool1, 13, 1, Finished, Available)"
          },
          "metadata": {}
        }
      ],
      "metadata": {
        "jupyter": {
          "source_hidden": false,
          "outputs_hidden": false
        },
        "nteract": {
          "transient": {
            "deleting": false
          }
        },
        "collapsed": true
      },
      "source": [
        "inputPath = 'abfss://delta2021@storagebricks.dfs.core.windows.net/inputfile'"
      ]
    },
    {
      "cell_type": "markdown",
      "metadata": {
        "nteract": {
          "transient": {
            "deleting": false
          }
        }
      },
      "source": [
        "Reading the data into the dataframe. Providing the schema details and header as true for this CSV file.\r\n",
        "Read the data into a DataFrame. We supply the schema."
      ]
    },
    {
      "cell_type": "code",
      "execution_count": 2,
      "outputs": [
        {
          "output_type": "display_data",
          "data": {
            "application/vnd.livy.statement-meta+json": {
              "spark_pool": "SparkPool1",
              "session_id": 13,
              "statement_id": 2,
              "state": "finished",
              "livy_statement_state": "available",
              "queued_time": "2021-10-25T09:54:17.1003512Z",
              "session_start_time": null,
              "execution_start_time": "2021-10-25T09:54:17.3125472Z",
              "execution_finish_time": "2021-10-25T09:54:22.5797851Z"
            },
            "text/plain": "StatementMeta(SparkPool1, 13, 2, Finished, Available)"
          },
          "metadata": {}
        }
      ],
      "metadata": {
        "jupyter": {
          "source_hidden": false,
          "outputs_hidden": false
        },
        "nteract": {
          "transient": {
            "deleting": false
          }
        },
        "collapsed": true
      },
      "source": [
        "from pyspark.sql.types import StructType, StructField, DoubleType, IntegerType, StringType\r\n",
        "\r\n",
        "inputSchema = StructType([\r\n",
        "  StructField(\"InvoiceNo\", IntegerType(), True),\r\n",
        "  StructField(\"StockCode\", StringType(), True),\r\n",
        "  StructField(\"Description\", StringType(), True),\r\n",
        "  StructField(\"Quantity\", IntegerType(), True),\r\n",
        "  StructField(\"InvoiceDate\", StringType(), True),\r\n",
        "  StructField(\"UnitPrice\", DoubleType(), True),\r\n",
        "  StructField(\"CustomerID\", IntegerType(), True),\r\n",
        "  StructField(\"Country\", StringType(), True)\r\n",
        "])\r\n",
        "\r\n",
        "rawDataDF = (spark.read\r\n",
        "  .option(\"header\", \"false\")\r\n",
        "  .schema(inputSchema)\r\n",
        "  .csv(inputPath)\r\n",
        "            )"
      ]
    },
    {
      "cell_type": "code",
      "execution_count": 3,
      "outputs": [
        {
          "output_type": "display_data",
          "data": {
            "application/vnd.livy.statement-meta+json": {
              "spark_pool": "SparkPool1",
              "session_id": 13,
              "statement_id": 3,
              "state": "finished",
              "livy_statement_state": "available",
              "queued_time": "2021-10-25T09:54:29.5627468Z",
              "session_start_time": null,
              "execution_start_time": "2021-10-25T09:54:29.678692Z",
              "execution_finish_time": "2021-10-25T09:54:29.6788022Z"
            },
            "text/plain": "StatementMeta(SparkPool1, 13, 3, Finished, Available)"
          },
          "metadata": {}
        }
      ],
      "metadata": {
        "jupyter": {
          "source_hidden": false,
          "outputs_hidden": false
        },
        "nteract": {
          "transient": {
            "deleting": false
          }
        },
        "collapsed": true
      },
      "source": [
        "DataPath = 'abfss://delta2021@storagebricks.dfs.core.windows.net/deltafile'"
      ]
    },
    {
      "cell_type": "markdown",
      "metadata": {
        "nteract": {
          "transient": {
            "deleting": false
          }
        }
      },
      "source": [
        "Provide the appropriate partition - below example partition on `Country` "
      ]
    },
    {
      "cell_type": "code",
      "execution_count": 4,
      "outputs": [
        {
          "output_type": "display_data",
          "data": {
            "application/vnd.livy.statement-meta+json": {
              "spark_pool": "SparkPool1",
              "session_id": 13,
              "statement_id": 4,
              "state": "finished",
              "livy_statement_state": "available",
              "queued_time": "2021-10-25T09:54:55.7749913Z",
              "session_start_time": null,
              "execution_start_time": "2021-10-25T09:54:55.8907851Z",
              "execution_finish_time": "2021-10-25T09:55:25.3426903Z"
            },
            "text/plain": "StatementMeta(SparkPool1, 13, 4, Finished, Available)"
          },
          "metadata": {}
        }
      ],
      "metadata": {
        "jupyter": {
          "source_hidden": false,
          "outputs_hidden": false
        },
        "nteract": {
          "transient": {
            "deleting": false
          }
        },
        "collapsed": true
      },
      "source": [
        "# write to Delta Lake\r\n",
        "rawDataDF.write.mode(\"overwrite\").format(\"delta\").partitionBy(\"Country\").save(DataPath)"
      ]
    },
    {
      "cell_type": "markdown",
      "metadata": {
        "nteract": {
          "transient": {
            "deleting": false
          }
        }
      },
      "source": [
        "Spark SQL queries can run directly on a directory of data, for delta use the following syntax: \r\n",
        "```\r\n",
        "SELECT * FROM delta.`/path/to/delta_directory`"
      ]
    },
    {
      "cell_type": "code",
      "execution_count": 5,
      "outputs": [
        {
          "output_type": "display_data",
          "data": {
            "application/vnd.livy.statement-meta+json": {
              "spark_pool": "SparkPool1",
              "session_id": 13,
              "statement_id": 5,
              "state": "finished",
              "livy_statement_state": "available",
              "queued_time": "2021-10-25T09:56:33.7398601Z",
              "session_start_time": null,
              "execution_start_time": "2021-10-25T09:56:33.8573502Z",
              "execution_finish_time": "2021-10-25T09:56:44.4002941Z"
            },
            "text/plain": "StatementMeta(SparkPool1, 13, 5, Finished, Available)"
          },
          "metadata": {}
        },
        {
          "output_type": "display_data",
          "data": {
            "application/vnd.synapse.widget-view+json": {
              "widget_id": "81da5af4-0a36-41da-ac3a-58c3b1bddbd1",
              "widget_type": "Synapse.DataFrame"
            },
            "text/plain": "SynapseWidget(Synapse.DataFrame, 81da5af4-0a36-41da-ac3a-58c3b1bddbd1)"
          },
          "metadata": {}
        }
      ],
      "metadata": {
        "jupyter": {
          "source_hidden": false,
          "outputs_hidden": false
        },
        "nteract": {
          "transient": {
            "deleting": false
          }
        },
        "collapsed": false
      },
      "source": [
        "display(spark.sql(\"SELECT * FROM delta.`{}` LIMIT 5\".format(DataPath)))"
      ]
    },
    {
      "cell_type": "markdown",
      "metadata": {
        "nteract": {
          "transient": {
            "deleting": false
          }
        }
      },
      "source": [
        "### CREATE A Table Using Delta Lake\r\n",
        "\r\n",
        "Create a table called `customer_data_delta` using `DELTA` out of the above data.\r\n",
        "\r\n",
        "The notation is:\r\n",
        "> `CREATE TABLE <table-name>` <br>\r\n",
        "  `USING DELTA` <br>\r\n",
        "  `LOCATION <path-do-data> ` <br>\r\n",
        "  \r\n",
        "Note: Tables created with a specified `LOCATION` are considered unmanaged by the metastore. Unlike a managed table, where no path is specified, an unmanaged table’s files are not deleted when you `DROP` the table. However, changes to either the registered table or the files will be reflected in both locations.\r\n",
        "Since Delta Lake stores schema (and partition) info in the `_delta_log` directory, we do not have to specify partition columns!"
      ]
    },
    {
      "cell_type": "code",
      "execution_count": 6,
      "outputs": [
        {
          "output_type": "display_data",
          "data": {
            "application/vnd.livy.statement-meta+json": {
              "spark_pool": "SparkPool1",
              "session_id": 13,
              "statement_id": 6,
              "state": "finished",
              "livy_statement_state": "available",
              "queued_time": "2021-10-25T10:07:46.9675704Z",
              "session_start_time": null,
              "execution_start_time": "2021-10-25T10:07:47.142848Z",
              "execution_finish_time": "2021-10-25T10:07:49.9210581Z"
            },
            "text/plain": "StatementMeta(SparkPool1, 13, 6, Finished, Available)"
          },
          "metadata": {}
        },
        {
          "output_type": "execute_result",
          "data": {
            "application/vnd.synapse.sparksql-result+json": {
              "schema": {
                "type": "struct",
                "fields": []
              },
              "data": []
            },
            "text/plain": "<Spark SQL result set with 0 rows and 0 fields>"
          },
          "execution_count": 6,
          "metadata": {}
        }
      ],
      "metadata": {
        "jupyter": {
          "source_hidden": false,
          "outputs_hidden": false
        },
        "nteract": {
          "transient": {
            "deleting": false
          }
        },
        "microsoft": {
          "language": "sparksql"
        },
        "collapsed": false
      },
      "source": [
        "%%sql\r\n",
        "drop table customer_data_delta"
      ]
    },
    {
      "cell_type": "code",
      "execution_count": null,
      "outputs": [],
      "metadata": {
        "jupyter": {
          "source_hidden": false,
          "outputs_hidden": false
        },
        "nteract": {
          "transient": {
            "deleting": false
          }
        },
        "collapsed": true
      },
      "source": [
        "spark.sql(\"\"\"\r\n",
        "  DROP TABLE IF EXISTS customer_data_delta\r\n",
        "\"\"\")\r\n",
        "spark.sql(\"\"\"\r\n",
        "  CREATE TABLE customer_data_delta\r\n",
        "  USING DELTA\r\n",
        "  LOCATION '{}'\r\n",
        "\"\"\".format(DataPath))"
      ]
    },
    {
      "cell_type": "code",
      "execution_count": null,
      "outputs": [],
      "metadata": {
        "jupyter": {
          "source_hidden": false,
          "outputs_hidden": false
        },
        "nteract": {
          "transient": {
            "deleting": false
          }
        },
        "microsoft": {
          "language": "sparksql"
        },
        "collapsed": false
      },
      "source": [
        "%%sql\r\n",
        "SELECT count(*) FROM customer_data_delta"
      ]
    },
    {
      "cell_type": "markdown",
      "metadata": {
        "nteract": {
          "transient": {
            "deleting": false
          }
        }
      },
      "source": [
        "Get the metadata details of the table"
      ]
    },
    {
      "cell_type": "code",
      "execution_count": null,
      "outputs": [],
      "metadata": {
        "jupyter": {
          "source_hidden": false,
          "outputs_hidden": false
        },
        "nteract": {
          "transient": {
            "deleting": false
          }
        },
        "microsoft": {
          "language": "sparksql"
        },
        "collapsed": false
      },
      "source": [
        "%%sql\r\n",
        "DESCRIBE DETAIL customer_data_delta"
      ]
    },
    {
      "cell_type": "markdown",
      "metadata": {
        "nteract": {
          "transient": {
            "deleting": false
          }
        }
      },
      "source": [
        "\r\n",
        "## Delta Lake Batch Operations - AppendDelta Lake Batch Operations - Append"
      ]
    },
    {
      "cell_type": "code",
      "execution_count": null,
      "outputs": [],
      "metadata": {
        "jupyter": {
          "source_hidden": false,
          "outputs_hidden": false
        },
        "nteract": {
          "transient": {
            "deleting": false
          }
        },
        "collapsed": true
      },
      "source": [
        "miniDataInputPath = 'abfss://delta2021@storagebricks.dfs.core.windows.net/smallfile/new_data.csv'\r\n",
        "newDataDF = (spark\r\n",
        "  .read\r\n",
        "  .option(\"header\", \"true\")\r\n",
        "  .schema(inputSchema)\r\n",
        "  .csv(miniDataInputPath)\r\n",
        ")"
      ]
    },
    {
      "cell_type": "code",
      "execution_count": null,
      "outputs": [],
      "metadata": {
        "jupyter": {
          "source_hidden": false,
          "outputs_hidden": false
        },
        "nteract": {
          "transient": {
            "deleting": false
          }
        },
        "collapsed": false
      },
      "source": [
        "display(newDataDF)"
      ]
    },
    {
      "cell_type": "code",
      "execution_count": null,
      "outputs": [],
      "metadata": {
        "jupyter": {
          "source_hidden": false,
          "outputs_hidden": false
        },
        "nteract": {
          "transient": {
            "deleting": false
          }
        },
        "collapsed": true
      },
      "source": [
        "newDataDF.count()"
      ]
    },
    {
      "cell_type": "code",
      "execution_count": null,
      "outputs": [],
      "metadata": {
        "jupyter": {
          "source_hidden": false,
          "outputs_hidden": false
        },
        "nteract": {
          "transient": {
            "deleting": false
          }
        },
        "collapsed": true
      },
      "source": [
        "(newDataDF\r\n",
        "  .write\r\n",
        "  .format(\"delta\")\r\n",
        "  .partitionBy(\"Country\")\r\n",
        "  .mode(\"append\")\r\n",
        "  .save(DataPath)\r\n",
        ")"
      ]
    },
    {
      "cell_type": "code",
      "execution_count": null,
      "outputs": [],
      "metadata": {
        "jupyter": {
          "source_hidden": false,
          "outputs_hidden": false
        },
        "nteract": {
          "transient": {
            "deleting": false
          }
        },
        "microsoft": {
          "language": "sparksql"
        },
        "collapsed": false
      },
      "source": [
        "%%sql\r\n",
        "SELECT count(*) FROM customer_data_delta"
      ]
    },
    {
      "cell_type": "markdown",
      "metadata": {
        "nteract": {
          "transient": {
            "deleting": false
          }
        }
      },
      "source": [
        "##  Upsert into delta lake\r\n",
        "\r\n",
        "Can't upsert in parquet files.\r\n",
        "Using Delta Lake, we can do UPSERTS. Delta Lake combines these operations to guarantee atomicity to\r\n",
        "- INSERT a row \r\n",
        "- if the row already exists, UPDATE the row."
      ]
    },
    {
      "cell_type": "code",
      "execution_count": null,
      "outputs": [],
      "metadata": {
        "jupyter": {
          "source_hidden": false,
          "outputs_hidden": false
        },
        "nteract": {
          "transient": {
            "deleting": false
          }
        },
        "collapsed": false
      },
      "source": [
        "upsertPath = 'abfss://delta2021@storagebricks.dfs.core.windows.net/upsertfile'\r\n",
        "\r\n",
        "upsertDF = spark.read.format(\"json\").load(upsertPath)\r\n",
        "display(upsertDF)"
      ]
    },
    {
      "cell_type": "code",
      "execution_count": null,
      "outputs": [],
      "metadata": {
        "jupyter": {
          "source_hidden": false,
          "outputs_hidden": false
        },
        "nteract": {
          "transient": {
            "deleting": false
          }
        },
        "collapsed": true
      },
      "source": [
        "upsertDF.createOrReplaceTempView(\"upsert_data\")"
      ]
    },
    {
      "cell_type": "markdown",
      "metadata": {
        "nteract": {
          "transient": {
            "deleting": false
          }
        }
      },
      "source": [
        "In this upsert\r\n",
        "- Adding new records for customer 20993\r\n",
        "- Updating 'Country' column for customer 20993 to Iceland\r\n",
        "- Updates to 'Description' column for StockCode 22837 "
      ]
    },
    {
      "cell_type": "code",
      "execution_count": null,
      "outputs": [],
      "metadata": {
        "jupyter": {
          "source_hidden": false,
          "outputs_hidden": false
        },
        "nteract": {
          "transient": {
            "deleting": false
          }
        },
        "microsoft": {
          "language": "sparksql"
        },
        "collapsed": false
      },
      "source": [
        "%%sql\r\n",
        "MERGE INTO customer_data_delta\r\n",
        "USING upsert_data\r\n",
        "ON customer_data_delta.InvoiceNo = upsert_data.InvoiceNo\r\n",
        "  AND customer_data_delta.StockCode = upsert_data.StockCode\r\n",
        "WHEN MATCHED THEN\r\n",
        "  UPDATE SET *\r\n",
        "WHEN NOT MATCHED\r\n",
        "  THEN INSERT *"
      ]
    },
    {
      "cell_type": "code",
      "execution_count": null,
      "outputs": [],
      "metadata": {
        "jupyter": {
          "source_hidden": false,
          "outputs_hidden": false
        },
        "nteract": {
          "transient": {
            "deleting": false
          }
        },
        "microsoft": {
          "language": "sparksql"
        },
        "collapsed": false
      },
      "source": [
        "%%sql\r\n",
        "SELECT * FROM customer_data_delta WHERE CustomerID=20993"
      ]
    },
    {
      "cell_type": "code",
      "execution_count": null,
      "outputs": [],
      "metadata": {
        "jupyter": {
          "source_hidden": false,
          "outputs_hidden": false
        },
        "nteract": {
          "transient": {
            "deleting": false
          }
        },
        "microsoft": {
          "language": "sparksql"
        },
        "collapsed": false
      },
      "source": [
        "%%sql\r\n",
        "SELECT DISTINCT(Description) \r\n",
        "FROM customer_data_delta \r\n",
        "WHERE StockCode = 22837"
      ]
    }
  ]
}